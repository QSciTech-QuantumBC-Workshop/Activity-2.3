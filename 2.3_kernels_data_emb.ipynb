{
 "cells": [
  {
   "cell_type": "code",
   "execution_count": null,
   "metadata": {},
   "outputs": [],
   "source": [
    "#General Imports\n",
    "import math\n",
    "import numpy as np \n",
    "import matplotlib.pyplot as plt\n",
    "import pylab as pl\n",
    "\n",
    "\n",
    "#ScikitLearn Imports\n",
    "from sklearn import datasets\n",
    "from sklearn.model_selection import train_test_split\n",
    "from skimage.transform import resize\n",
    "from sklearn.svm import SVC \n",
    "\n",
    "#Qiskit imports\n",
    "from qiskit import QuantumCircuit, Aer,QuantumRegister, ClassicalRegister, execute, IBMQ\n",
    "from qiskit.circuit import ParameterVector,Parameter\n",
    "from qiskit.utils import QuantumInstance\n",
    "from qiskit.circuit.library import ZFeatureMap, ZZFeatureMap, PauliFeatureMap\n",
    "from qiskit_machine_learning.circuit.library import RawFeatureVector\n",
    "from qiskit_machine_learning.kernels import QuantumKernel\n",
    "\n",
    "from utils2 import *\n",
    "\n",
    "import os\n",
    "os.environ['QISKIT_IN_PARALLEL'] = 'TRUE'\n",
    "\n",
    "\n",
    "SEED = 1430"
   ]
  },
  {
   "cell_type": "markdown",
   "metadata": {},
   "source": [
    "# Cocentric circles"
   ]
  },
  {
   "cell_type": "code",
   "execution_count": null,
   "metadata": {},
   "outputs": [],
   "source": [
    "import matplotlib.pyplot as plt\n",
    "import numpy as np\n",
    "import pylab as pl\n",
    "from sklearn.datasets import make_circles\n",
    "\n",
    "n_samples = 100\n",
    "\n",
    "# Create circles dataset\n",
    "X, Y = make_circles(n_samples=n_samples, noise=0.05, factor=0.4) \n",
    "\n",
    "# Separate smaller and larger circles\n",
    "A = X[np.where(Y==0)] #50 points for A\n",
    "B = X[np.where(Y==1)] #50 points B\n",
    "\n",
    "\n",
    "# Plot in 2D\n",
    "plt.figure(figsize=(5,5))\n",
    "plt.scatter(A[:,0],A[:,1], marker='o')\n",
    "plt.scatter(B[:,0],B[:,1], marker='s', c='C3')\n",
    "plt.show()"
   ]
  },
  {
   "cell_type": "code",
   "execution_count": null,
   "metadata": {},
   "outputs": [],
   "source": [
    "x_train, x_test, y_train, y_test = train_test_split(X, Y, stratify=Y, random_state=0)"
   ]
  },
  {
   "cell_type": "code",
   "execution_count": null,
   "metadata": {},
   "outputs": [],
   "source": [
    "def transform_function(x, y):\n",
    "    \"\"\" Implements f(x,y) = [x, y, z = x^2 + y^2] \"\"\"\n",
    "    return np.array([x, y, x**2.0 + y**2.0])\n",
    "\n",
    "plot_transform(A,B,X,Y)\n",
    "    "
   ]
  },
  {
   "cell_type": "markdown",
   "metadata": {},
   "source": [
    "# Let's see how to implement different data embeddings and feature maps "
   ]
  },
  {
   "cell_type": "markdown",
   "metadata": {},
   "source": [
    "### Angle embedding"
   ]
  },
  {
   "cell_type": "code",
   "execution_count": null,
   "metadata": {},
   "outputs": [],
   "source": [
    "nb_features_circles = 2\n",
    "\n",
    "x_params = [Parameter(f'x{str(i)}') for i in range(nb_features_circles)]\n",
    "\n",
    "def angle_embedding(nb_features):\n",
    "       \n",
    "    \"\"\"\n",
    "    Qubit - or rotation - encoding in RX gates.\n",
    "\n",
    "    :param qc: The quantum circuit.\n",
    "    :param nb_features: The number of features of the feature vector. \n",
    "    :return: The quantum circuit with the embedding layer. \n",
    "    \"\"\"\n",
    "    \n",
    "    qc = QuantumCircuit(nb_features)\n",
    "\n",
    "    for i in range(nb_features):\n",
    "        qc.rx(x_params[i], i)\n",
    "        \n",
    "    return qc \n",
    "\n"
   ]
  },
  {
   "cell_type": "code",
   "execution_count": null,
   "metadata": {},
   "outputs": [],
   "source": [
    "qc = angle_embedding(nb_features_circles)\n",
    "qc.draw('mpl')"
   ]
  },
  {
   "cell_type": "code",
   "execution_count": null,
   "metadata": {},
   "outputs": [],
   "source": [
    "print('Features for the first datapoint:', x_train[0])\n",
    "\n",
    "qc = qc.assign_parameters(x_train[0]) #data becomes parameters\n",
    "qc.draw('mpl')"
   ]
  },
  {
   "cell_type": "markdown",
   "metadata": {},
   "source": [
    "### Amplitude embedding"
   ]
  },
  {
   "cell_type": "markdown",
   "metadata": {},
   "source": [
    "**Amplitude embedding uses no specific gates, it all depends what the data vector to embed is. Qiskit's  __[RawFeatureVector class](https://qiskit.org/documentation/machine-learning/stubs/qiskit_machine_learning.circuit.library.RawFeatureVector.html)__ loads the data into qubit amplitudes automatically. Let's try it out.\n",
    "\n"
   ]
  },
  {
   "cell_type": "code",
   "execution_count": null,
   "metadata": {},
   "outputs": [],
   "source": [
    "#We use a Qiskit Class [Class](https://qiskit.org/documentation/machine-learning/stubs/qiskit_machine_learning.circuit.library.RawFeatureVector.html)\n",
    "qc = RawFeatureVector(nb_features_circles) \n",
    "qc = qc.assign_parameters(x_train[0])\n",
    "qc.draw('mpl')"
   ]
  },
  {
   "cell_type": "code",
   "execution_count": null,
   "metadata": {},
   "outputs": [],
   "source": [
    "qc.decompose().draw('mpl')"
   ]
  },
  {
   "cell_type": "markdown",
   "metadata": {},
   "source": [
    "### Parametrized feature maps"
   ]
  },
  {
   "cell_type": "code",
   "execution_count": null,
   "metadata": {},
   "outputs": [],
   "source": [
    "map_z = ZZFeatureMap(feature_dimension=nb_features_circles, reps=1, entanglement= \"linear\")\n",
    "encode_circuit = map_z.assign_parameters(x_train[0])\n",
    "encode_circuit.decompose().draw(output='mpl')"
   ]
  },
  {
   "cell_type": "markdown",
   "metadata": {},
   "source": [
    "### Making your own data embedding circuit! \n",
    "Participate in the research by exploring your own data embedding circuits"
   ]
  },
  {
   "cell_type": "code",
   "execution_count": null,
   "metadata": {},
   "outputs": [],
   "source": [
    "# Modify this function to customize your own circuit\n",
    "def get_cicuit(n_qubits,n_layer, input_data):\n",
    "    qc = QuantumCircuit(n_qubits)\n",
    "    for layer in range(n_layer):\n",
    "        for i in range(nb_features_circles):\n",
    "            qc.rx(input_data[i], i)\n",
    "        for i in range(n_qubits - 1):\n",
    "            qc.cx(i, i+1)\n",
    "            qc.barrier()\n",
    "            qc.rz(input_data[i], i+1)\n",
    "    return qc\n",
    "\n",
    "qc = get_cicuit(n_qubits = 2,n_layer = 3, input_data = x_train[0])\n",
    "qc.draw('mpl')\n"
   ]
  },
  {
   "cell_type": "markdown",
   "metadata": {},
   "source": [
    "# Evaluating a kernel"
   ]
  },
  {
   "cell_type": "code",
   "execution_count": null,
   "metadata": {},
   "outputs": [],
   "source": [
    "#Defining a quantum instance\n",
    "simulator = Aer.get_backend('qasm_simulator')\n",
    "shots = 8092\n",
    "qinst = QuantumInstance(simulator, shots, SEED)"
   ]
  },
  {
   "cell_type": "markdown",
   "metadata": {},
   "source": [
    "### Let's start by evaluating the similarity between two datapoints with the transition amplitude"
   ]
  },
  {
   "cell_type": "markdown",
   "metadata": {},
   "source": [
    "**We must first choose a data embedding method, or feature map.**"
   ]
  },
  {
   "cell_type": "code",
   "execution_count": null,
   "metadata": {},
   "outputs": [],
   "source": [
    "pauli_map = PauliFeatureMap(feature_dimension=nb_features_circles, reps=1, entanglement='linear')\n",
    "\n",
    "#Building the kernel matrix\n",
    "pauli_kernel = QuantumKernel(feature_map=pauli_map, quantum_instance=qinst)\n",
    "\n",
    "#Constructing the inner product circuit for given datapoints and feature map\n",
    "pauli_circuit = pauli_kernel.construct_circuit(x_train[0], x_train[1])\n",
    "\n",
    "pauli_circuit.decompose().draw('mpl')"
   ]
  },
  {
   "cell_type": "code",
   "execution_count": null,
   "metadata": {},
   "outputs": [],
   "source": [
    "job = execute(pauli_circuit, backend = simulator, shots=shots)\n",
    "counts = job.result().get_counts(pauli_circuit)\n",
    "counts"
   ]
  },
  {
   "cell_type": "code",
   "execution_count": null,
   "metadata": {},
   "outputs": [],
   "source": [
    "#How many times we count the 00 bitstring after our transition amplitude circuit. Changing the number of shots will obviously affect this value.\n",
    "print(f\"Transition amplitude: {counts['00']/sum(counts.values())}\")"
   ]
  },
  {
   "cell_type": "markdown",
   "metadata": {},
   "source": [
    " Using  Qiskit's __[evaluate](https://qiskit.org/documentation/machine-learning/stubs/qiskit_machine_learning.kernels.QuantumKernel.evaluate.html)__ function to evaluate the kernel matrix."
   ]
  },
  {
   "cell_type": "code",
   "execution_count": null,
   "metadata": {},
   "outputs": [],
   "source": [
    "train_matrix= pauli_kernel.evaluate(x_vec=x_train)\n",
    "test_matrix = pauli_kernel.evaluate(x_vec=x_test, y_vec=x_train)\n",
    "\n",
    "fig, axs = plt.subplots(1, figsize=(10, 5))\n",
    "axs.imshow(\n",
    "    np.asmatrix(train_matrix), interpolation=\"nearest\", origin=\"upper\", cmap=\"Blues\"\n",
    ")\n",
    "axs.set_title(\"Train kernel matrix\")\n",
    "plt.show()"
   ]
  },
  {
   "cell_type": "markdown",
   "metadata": {},
   "source": [
    "# SVC"
   ]
  },
  {
   "cell_type": "markdown",
   "metadata": {},
   "source": [
    "Let's now use the classical __[Support Vector Classifier](https://scikit-learn.org/stable/modules/generated/sklearn.svm.SVC.html)__ algorithm from scikit-learn "
   ]
  },
  {
   "cell_type": "code",
   "execution_count": null,
   "metadata": {},
   "outputs": [],
   "source": [
    "model = SVC(kernel= pauli_kernel.evaluate)\n",
    "\n",
    "#Fiting the SVM model according to the given training data.\n",
    "model.fit(x_train, y_train)"
   ]
  },
  {
   "cell_type": "code",
   "execution_count": null,
   "metadata": {},
   "outputs": [],
   "source": [
    "# print(\"Number of support vectors for each class:\",model.n_support_)\n",
    "# print(\"Indices of support vectors:\", model.support_)\n",
    "\n",
    "# Plot support vectors\n",
    "plt.figure(figsize=(5, 5))\n",
    "\n",
    "plt.scatter(x_train[model.support_[0:model.n_support_[0] ], 0],\n",
    "            x_train[model.support_[0:model.n_support_[0] ], 1],\n",
    "            marker='s', label=\"A support\")\n",
    "plt.scatter(x_train[model.support_[model.n_support_[0]:], 0],\n",
    "            x_train[model.support_[model.n_support_[0]:], 1],\n",
    "            marker='o', c='C3', label=\"B support\")\n",
    "plt.legend(loc='upper left', frameon=False)\n",
    "plt.show()"
   ]
  },
  {
   "cell_type": "code",
   "execution_count": null,
   "metadata": {},
   "outputs": [],
   "source": [
    "score = model.score(x_test, y_test)\n",
    "print(f'Callable kernel classification test score: {score}')"
   ]
  },
  {
   "cell_type": "markdown",
   "metadata": {},
   "source": [
    "\n",
    "# MNIST Dataset"
   ]
  },
  {
   "cell_type": "code",
   "execution_count": null,
   "metadata": {},
   "outputs": [],
   "source": [
    "# dataset is made up of 1797 8x8 images (https://scikit-learn.org/stable/auto_examples/datasets/plot_digits_last_image.html)\n",
    "mnist = datasets.load_digits()"
   ]
  },
  {
   "cell_type": "code",
   "execution_count": null,
   "metadata": {},
   "outputs": [],
   "source": [
    "show_images(mnist.images, mnist.target)"
   ]
  },
  {
   "cell_type": "code",
   "execution_count": null,
   "metadata": {},
   "outputs": [],
   "source": [
    "# Filter digits and targets\n",
    "labels = [0, 3]\n",
    "x = mnist.images[[t in labels for t in mnist.target]]\n",
    "y = mnist.target[[t in labels for t in mnist.target]]\n",
    "\n",
    "# We keep only 24 images for each label\n",
    "class_size = 24\n",
    "x0 = x[y == labels[0]][:class_size:]\n",
    "x1 = x[y == labels[1]][:class_size:]"
   ]
  },
  {
   "cell_type": "code",
   "execution_count": null,
   "metadata": {},
   "outputs": [],
   "source": [
    "# 80-20 split (https://scikit-learn.org/stable/modules/generated/sklearn.model_selection.train_test_split.html)\n",
    "labels = np.array([0]*class_size + [1]*class_size)\n",
    "\n",
    "x_train_full_scale, x_test_full_scale, y_train, y_test = train_test_split(np.concatenate((x0, x1), axis=0), labels, test_size=0.2, random_state=SEED, stratify=labels)\n",
    "\n",
    "print(f'Size of the train set: {len(x_train_full_scale)}\\nSize of the test set: {len(x_test_full_scale)}')"
   ]
  },
  {
   "cell_type": "code",
   "execution_count": null,
   "metadata": {},
   "outputs": [],
   "source": [
    "# https://scikit-image.org/docs/dev/api/skimage.transform.html#skimage.transform.resize\n",
    "x_train = np.vstack([[resize(x_i, (4,1), anti_aliasing=False) for x_i in x_train_full_scale]])\n",
    "x_test = np.vstack([[resize(x_i, (4,1), anti_aliasing=False) for x_i in x_test_full_scale]])\n",
    "\n",
    "num_samples = 8\n",
    "sources = [x_train_full_scale, x_train]\n",
    "fig, axes = plt.subplots(nrows=2, ncols=num_samples, figsize=(12, 4))\n",
    "for i in range(num_samples):\n",
    "    for s in range(len(sources)):\n",
    "        axes[s, i].imshow(sources[s][i,:,:], cmap=plt.cm.gray_r)\n",
    "        axes[s, i ].set_xticks([])\n",
    "        axes[s, i].set_yticks([])\n",
    "        axes[s, i].set_title(f\"Label: {y_train[i]}\")"
   ]
  },
  {
   "cell_type": "code",
   "execution_count": null,
   "metadata": {},
   "outputs": [],
   "source": [
    "# Reshape input data size from (4,1) to (4,)\n",
    "x_train = x_train.reshape(x_train.shape[:-1])\n",
    "x_test = x_test.reshape(x_test.shape[:-1])\n",
    "\n",
    "# # Use one-hot encoding for labels: {0, 1} -> {[1,0], [0,1]}\n",
    "# y_train = [np.eye(2)[0 if labels[0] == y_i else 1] for y_i in y_train]\n",
    "# y_test = [np.eye(2)[0 if labels[0] == y_i else 1] for y_i in y_test]"
   ]
  },
  {
   "cell_type": "markdown",
   "metadata": {},
   "source": [
    "# QKA \n",
    "__[Qiskit's QKA with Runtime tutorial](https://qiskit.org/documentation/partners/qiskit_runtime/tutorials/qka.html?highlight=qka)__\n",
    "\n",
    "__[Pennylane's tutorial on kernel methods, quantum embeddings and QKA](https://pennylane.ai/qml/demos/tutorial_kernels_module.html)__\n",
    "\n",
    "__[Paper: Training Quantum Embedding Kernels on Near-Term Quantum Computers](https://arxiv.org/abs/2105.02276)__\n",
    "\n",
    "__[Paper: Quantum embeddings for machine learning](https://arxiv.org/pdf/2001.03622.pdf)__\n",
    "\n"
   ]
  }
 ],
 "metadata": {
  "interpreter": {
   "hash": "be46e78d3dcbab919e7701c4870aab0f97ee500a54e0a329b7d84d45296915d8"
  },
  "kernelspec": {
   "display_name": "Python 3.8.10 64-bit ('ibm': conda)",
   "language": "python",
   "name": "python3"
  },
  "language_info": {
   "codemirror_mode": {
    "name": "ipython",
    "version": 3
   },
   "file_extension": ".py",
   "mimetype": "text/x-python",
   "name": "python",
   "nbconvert_exporter": "python",
   "pygments_lexer": "ipython3",
   "version": "3.8.10"
  },
  "orig_nbformat": 4
 },
 "nbformat": 4,
 "nbformat_minor": 2
}
